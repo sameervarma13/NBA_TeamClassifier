{
 "cells": [
  {
   "cell_type": "markdown",
   "metadata": {},
   "source": [
    "# Data Scraping\n",
    "This is a data scraper used to extract the advanced NBA team statistics from [stats.nba.com](https://stats.nba.com/). 6 different advanced stat categories were used (drives, catch and shoot, passing, pullup shooting, touches, and hustle). Each of these stats were combined into one single advanced stats dataframe where the rows were each team and \n",
    "the columns were the statistics. "
   ]
  },
  {
   "cell_type": "code",
   "execution_count": 12,
   "metadata": {},
   "outputs": [],
   "source": [
    "from selenium import webdriver\n",
    "from bs4 import BeautifulSoup as soup \n",
    "from webdriver_manager.chrome import ChromeDriverManager\n",
    "import pandas as pd\n",
    "import numpy as np"
   ]
  },
  {
   "cell_type": "code",
   "execution_count": 9,
   "metadata": {},
   "outputs": [],
   "source": [
    "## returns dataframe of the given statistic with the NBA team as the index\n",
    "def scrape(stat,year):\n",
    "    d = webdriver.Chrome(ChromeDriverManager().install())\n",
    "    d.get('https://stats.nba.com/teams/'+stat+'/?Season='+year+'&SeasonType=Regular%20Season')\n",
    "    s = soup(d.page_source, 'html.parser').find('table', {'class':'table'})\n",
    "    headers, [_, *data] = [i.text for i in s.find_all('th')], [[i.text for i in b.find_all('td')] for b in s.find_all('tr')]\n",
    "    final_data = [i for i in data if len(i) > 1]\n",
    "    data_attrs = [dict(zip(headers, i)) for i in final_data]\n",
    "    df = pd.DataFrame(data_attrs)\n",
    "    df['Team'] = df['Team'].str.replace(r'\\n', '')\n",
    "    df = df.set_index(\"Team\")\n",
    "    return df"
   ]
  },
  {
   "cell_type": "code",
   "execution_count": 10,
   "metadata": {},
   "outputs": [],
   "source": [
    "## creates entire data frame with all 6 tracking statistics given the season (XXXX-XX)\n",
    "def create_trackingData(year):\n",
    "    drives = scrape('drives', year)\n",
    "    catch_shoot = scrape('catch-shoot', year)\n",
    "    passing = scrape('passing', year)\n",
    "    pullup = scrape('pullup', year)\n",
    "    touches = scrape('touches', year)\n",
    "    drives = drives[[\"DRIVES\"]]\n",
    "    catch_shoot = catch_shoot[[\"PTS\"]]\n",
    "    passing = passing[[\"PassesMade\", \"SecondaryAST\"]]\n",
    "    touches = touches[[\"TOUCHES\", \"PaintTouches\", \"PostUps\"]]\n",
    "    pullup = pd.DataFrame(pullup.iloc[:,15])\n",
    "    pullup.columns = [\"PullUpPoints\"]\n",
    "    \n",
    "    hustle = pd.read_excel(\"data/hustle\"+year+\".xlsx\")\n",
    "    misc = pd.read_excel(\"data/misc\"+year+\".xlsx\")\n",
    "    misc = misc.set_index(\"Team\")\n",
    "    hustle = hustle.rename(columns = {'TEAM' : 'Team'})\n",
    "    hustle = hustle.set_index(\"Team\")\n",
    "    full_advanced = pd.concat([drives, catch_shoot, pullup,touches, passing, hustle, misc], axis=1, sort = True)\n",
    "    full_advanced.to_excel(\"tracking\"+year+\".xlsx\")"
   ]
  },
  {
   "cell_type": "code",
   "execution_count": 72,
   "metadata": {},
   "outputs": [],
   "source": [
    "create_trackingData('2018-19')"
   ]
  },
  {
   "cell_type": "markdown",
   "metadata": {},
   "source": [
    "Most of the data will consist of team statistics from [basketball-reference.com](https://www.basketball-reference.com/). Three tables from the team statistics page from each season will be used. They can easily be downloaded as csv or excel files. Then the tables will be cleaned individually and combined together so that the indices are all the NBA teams and the columns are the statistical categories with distinct names. As of now these tables will be manually downloaded from basketball-reference."
   ]
  },
  {
   "cell_type": "code",
   "execution_count": 41,
   "metadata": {},
   "outputs": [],
   "source": [
    "## 2019-20 : Unfinished Season\n",
    "basic20 = pd.read_csv(\"data/basic2019-20.csv\")"
   ]
  },
  {
   "cell_type": "code",
   "execution_count": 53,
   "metadata": {},
   "outputs": [],
   "source": [
    "## 2018-19 Finished Season\n",
    "basic19 = pd.read_csv(\"data/basic2018-19.csv\")\n",
    "basic_opp19 = pd.read_csv(\"data/basic_opp2018-19.csv\")\n",
    "advanced19 = pd.read_excel(\"data/advanced2018-19.xlsx\").set_index(\"Team\")"
   ]
  },
  {
   "cell_type": "code",
   "execution_count": 13,
   "metadata": {
    "scrolled": true
   },
   "outputs": [],
   "source": [
    "## 2017-18 Finished Season\n",
    "basic18 = pd.read_csv(\"data/basic2017-18.csv\")\n",
    "basic_opp18 = pd.read_csv(\"data/basic_opp2017-18.csv\")\n",
    "advanced18 = pd.read_excel(\"data/advanced2017-18.xlsx\").set_index(\"Team\")"
   ]
  },
  {
   "cell_type": "code",
   "execution_count": 63,
   "metadata": {},
   "outputs": [],
   "source": [
    "## 2016-17 Finished Season\n",
    "basic17 = pd.read_csv(\"data/basic2016-17.csv\")\n",
    "basic_opp17 = pd.read_csv(\"data/basic_opp2016-17.csv\")\n",
    "advanced17 = pd.read_excel(\"data/advanced2016-17.xlsx\").set_index(\"Team\")"
   ]
  },
  {
   "cell_type": "code",
   "execution_count": 117,
   "metadata": {},
   "outputs": [],
   "source": [
    "## 2015-16 Finished Season\n",
    "basic16 = pd.read_csv(\"data/basic2015-16.csv\")\n",
    "basic_opp16 = pd.read_csv(\"data/basic_opp2015-16.csv\")\n",
    "advanced16 = pd.read_excel(\"data/advanced2015-16.xlsx\").set_index(\"Team\")"
   ]
  },
  {
   "cell_type": "markdown",
   "metadata": {},
   "source": [
    "# Data Cleaning\n",
    "Once all three tables (team, opponents, advanced) are merged into a single dataframe they will be cleaned. Games played and minutes will be dropped because they are the same for all teams. Then an extra column will be added to introduce 'Star Power' as a metric. Despite team success during the regular season, having a star player provides somewhat of an intangible boost as these players are capable of special things during the playoffs. As a result teams with a player in the top 5 of the MVP voting receive a 1. The rest of teams will have 0. Statistics, which are redundant as other statistics capture essentially the same thing, will be dropped. The seeding of each team will be manually assigned and adding a column called 'Seed'. Finally the playoff results of each team for each season will be manually assigned, essentially 'labeling' each of team data points, by adding a column called 'Playoffs'."
   ]
  },
  {
   "cell_type": "code",
   "execution_count": 15,
   "metadata": {},
   "outputs": [],
   "source": [
    "def clean(df, opp):\n",
    "    if (opp):\n",
    "        df.drop([\"Rk\",\"G\", \"MP\"], axis = 1, inplace = True)\n",
    "        df.columns = ['op_' + str(col) for col in df.columns]\n",
    "        df = df.rename(columns = {'op_Team' : 'Team'})\n",
    "        df['Team'] = df['Team'].str.replace(r'*', '')\n",
    "        df = df.set_index(\"Team\")\n",
    "    else:  \n",
    "        df['Team'] = df['Team'].str.replace(r'*', '')\n",
    "        df.drop([\"Rk\",\"G\", \"MP\"], axis = 1, inplace = True)\n",
    "        df = df.set_index(\"Team\")\n",
    "    return df"
   ]
  },
  {
   "cell_type": "markdown",
   "metadata": {},
   "source": [
    "### 2018-19 Season Data"
   ]
  },
  {
   "cell_type": "code",
   "execution_count": 47,
   "metadata": {},
   "outputs": [],
   "source": [
    "basic20 = clean(basic20, False)\n",
    "basic19 = clean(basic19, False)\n",
    "basic_opp19 = clean(basic_opp19, True)"
   ]
  },
  {
   "cell_type": "code",
   "execution_count": 48,
   "metadata": {},
   "outputs": [],
   "source": [
    "basic19 = pd.concat([basic19, basic_opp19], axis=1, sort = True)\n",
    "basic19 = basic19.round(3)\n",
    "basic19.insert(len(basic19.columns),'Star_Power',0)\n",
    "basic19.loc[\"Milwaukee Bucks\", \"Star_Power\"] = 1\n",
    "basic19.loc[\"Houston Rockets\", \"Star_Power\"] = 1\n",
    "basic19.loc[\"Oklahoma City Thunder\", \"Star_Power\"] = 1\n",
    "basic19.loc[\"Denver Nuggets\", \"Star_Power\"] = 1\n",
    "basic19.loc[\"Golden State Warriors\", \"Star_Power\"] = 1"
   ]
  },
  {
   "cell_type": "code",
   "execution_count": 57,
   "metadata": {},
   "outputs": [],
   "source": [
    "s2019 = pd.read_excel(\"data/basic2018-19_labels.xlsx\")\n",
    "s2019 = s2019.set_index(\"Team\")\n",
    "s2019 = pd.concat([s2019, advanced19], axis=1, sort = True)\n",
    "full_advanced2019 = pd.read_excel(\"data/full_advanced2018-19.xlsx\").set_index(\"Team\")\n",
    "s2019_full = pd.concat([s2019, advanced19, full_advanced2019], axis=1, sort = True)\n",
    "s2019.drop([\"op_STL\", \"op_BLK\", \"op_PF\", \"op_FT%\", \"op_FTA\", \"op_DRB\", \"op_TRB\"], axis = 1, inplace = True)\n",
    "# s2019.to_excel(\"data/s2019.xlsx\")"
   ]
  },
  {
   "cell_type": "markdown",
   "metadata": {},
   "source": [
    "### 2017-18 Season Data"
   ]
  },
  {
   "cell_type": "code",
   "execution_count": 16,
   "metadata": {},
   "outputs": [],
   "source": [
    "basic18 = clean(basic18, False)\n",
    "basic_opp18 = clean(basic_opp18, True)\n",
    "basic18 = pd.concat([basic18, basic_opp18], axis=1, sort = True)\n",
    "basic18 = basic18.round(3)"
   ]
  },
  {
   "cell_type": "code",
   "execution_count": 17,
   "metadata": {},
   "outputs": [],
   "source": [
    "basic18.insert(len(basic18.columns),'Star_Power',0)\n",
    "basic18.loc[\"Cleveland Cavaliers\", \"Star_Power\"] = 1\n",
    "basic18.loc[\"Houston Rockets\", \"Star_Power\"] = 1\n",
    "basic18.loc[\"Oklahoma City Thunder\", \"Star_Power\"] = 1\n",
    "basic18.loc[\"Portland Trail Blazers\", \"Star_Power\"] = 1\n",
    "basic18.loc[\"New Orleans Pelicans\", \"Star_Power\"] = 1"
   ]
  },
  {
   "cell_type": "code",
   "execution_count": 18,
   "metadata": {},
   "outputs": [],
   "source": [
    "s2018 = pd.read_excel(\"data/basic2017-18_labels.xlsx\")\n",
    "s2018 = s2018.set_index(\"Team\")\n",
    "s2018 = pd.concat([s2018, advanced18], axis=1, sort = True)\n",
    "s2018.drop([\"op_STL\", \"op_BLK\", \"op_PF\", \"op_FT%\", \"op_FTA\", \"op_DRB\", \"op_TRB\"], axis = 1, inplace = True)\n",
    "# s2018.to_excel(\"data/s2018.xlsx\")\n",
    "s2018.to_csv(\"data/s2018.csv\")"
   ]
  },
  {
   "cell_type": "markdown",
   "metadata": {},
   "source": [
    "### 2016-17 Season Data"
   ]
  },
  {
   "cell_type": "code",
   "execution_count": 64,
   "metadata": {},
   "outputs": [],
   "source": [
    "basic17 = clean(basic17, False)\n",
    "basic_opp17 = clean(basic_opp17, True)\n",
    "basic17 = pd.concat([basic17, basic_opp17], axis=1, sort = True)\n",
    "basic17 = basic17.round(3)"
   ]
  },
  {
   "cell_type": "code",
   "execution_count": 65,
   "metadata": {},
   "outputs": [],
   "source": [
    "basic17 = pd.concat([basic17, basic_opp17], axis=1, sort = True)\n",
    "basic17 = basic17.round(3)\n",
    "basic17.insert(len(basic17.columns),'Star_Power',0)\n",
    "basic17.loc[\"Cleveland Cavaliers\", \"Star_Power\"] = 1\n",
    "basic17.loc[\"Houston Rockets\", \"Star_Power\"] = 1\n",
    "basic17.loc[\"Oklahoma City Thunder\", \"Star_Power\"] = 1\n",
    "basic17.loc[\"Boston Celtics\", \"Star_Power\"] = 1\n",
    "basic17.loc[\"San Antonio Spurs\", \"Star_Power\"] = 1"
   ]
  },
  {
   "cell_type": "code",
   "execution_count": 66,
   "metadata": {},
   "outputs": [],
   "source": [
    "s2017 = pd.read_excel(\"data/basic2016-17_labels.xlsx\")\n",
    "s2017 = s2017.set_index(\"Team\")\n",
    "s2017 = pd.concat([s2017, advanced17], axis=1, sort = True)\n",
    "s2017.drop([\"op_STL\", \"op_BLK\", \"op_PF\", \"op_FT%\", \"op_FTA\", \"op_DRB\", \"op_TRB\"], axis = 1, inplace = True)\n",
    "# s2017.to_excel(\"data/s2017.xlsx\")"
   ]
  },
  {
   "cell_type": "markdown",
   "metadata": {},
   "source": [
    "### 2015-16 Season Data"
   ]
  },
  {
   "cell_type": "code",
   "execution_count": 118,
   "metadata": {},
   "outputs": [],
   "source": [
    "basic16 = clean(basic16, False)\n",
    "basic_opp16 = clean(basic_opp16, True)\n",
    "basic16 = pd.concat([basic16, basic_opp16], axis=1, sort = True)\n",
    "basic16 = basic16.round(3)"
   ]
  },
  {
   "cell_type": "code",
   "execution_count": 119,
   "metadata": {},
   "outputs": [],
   "source": [
    "basic16 = pd.concat([basic16, basic_opp16], axis=1, sort = True)\n",
    "basic16 = basic16.round(3)\n",
    "basic16.insert(len(basic16.columns),'Star_Power',0)\n",
    "basic16.loc[\"Cleveland Cavaliers\", \"Star_Power\"] = 1\n",
    "basic16.loc[\"Los Angeles Clippers\", \"Star_Power\"] = 1\n",
    "basic16.loc[\"Oklahoma City Thunder\", \"Star_Power\"] = 1\n",
    "basic16.loc[\"Golden State Warriors\", \"Star_Power\"] = 1\n",
    "basic16.loc[\"San Antonio Spurs\", \"Star_Power\"] = 1"
   ]
  },
  {
   "cell_type": "code",
   "execution_count": 5,
   "metadata": {},
   "outputs": [],
   "source": [
    "s2016 = pd.read_excel(\"data/basic2015-16_labels.xlsx\")\n",
    "s2016 = s2016.set_index(\"Team\")\n",
    "s2016 = pd.concat([s2016, advanced16], axis=1, sort = True)\n",
    "s2016.drop([\"op_STL\", \"op_BLK\", \"op_PF\", \"op_FT%\", \"op_FTA\", \"op_DRB\", \"op_TRB\"], axis = 1, inplace = True)\n",
    "s2016.to_excel(\"data/s2015-16.xlsx\")"
   ]
  },
  {
   "cell_type": "markdown",
   "metadata": {},
   "source": [
    "### 2014-15 Season Data"
   ]
  },
  {
   "cell_type": "code",
   "execution_count": 1,
   "metadata": {},
   "outputs": [],
   "source": [
    "basic15 = pd.read_csv(\"data/basic2014-15.csv\")\n",
    "basic_opp15 = pd.read_csv(\"data/basic_opp2014-15.csv\")\n",
    "advanced15 = pd.read_excel(\"data/advanced2014-15.xlsx\").set_index(\"Team\")"
   ]
  },
  {
   "cell_type": "code",
   "execution_count": 2,
   "metadata": {},
   "outputs": [],
   "source": [
    "basic15 = clean(basic15, False)\n",
    "basic_opp15 = clean(basic_opp15, True)\n",
    "basic15 = pd.concat([basic15, basic_opp15], axis=1, sort = True)\n",
    "basic15 = basic15.round(3)"
   ]
  },
  {
   "cell_type": "code",
   "execution_count": 3,
   "metadata": {},
   "outputs": [],
   "source": [
    "basic15.insert(len(basic15.columns),'Star_Power',0)\n",
    "basic15.loc[\"Cleveland Cavaliers\", \"Star_Power\"] = 1\n",
    "basic15.loc[\"New Orleans Pelicans\", \"Star_Power\"] = 1\n",
    "basic15.loc[\"Oklahoma City Thunder\", \"Star_Power\"] = 1\n",
    "basic15.loc[\"Golden State Warriors\", \"Star_Power\"] = 1\n",
    "basic15.loc[\"Houston Rockets\", \"Star_Power\"] = 1"
   ]
  },
  {
   "cell_type": "code",
   "execution_count": 4,
   "metadata": {},
   "outputs": [],
   "source": [
    "s2015 = pd.read_excel(\"data/basic2014-15_labels.xlsx\")\n",
    "s2015 = s2015.set_index(\"Team\")\n",
    "s2015 = pd.concat([s2015, advanced15], axis=1, sort = True)\n",
    "s2015.drop([\"op_STL\", \"op_BLK\", \"op_PF\", \"op_FT%\", \"op_FTA\", \"op_DRB\", \"op_TRB\"], axis = 1, inplace = True)\n",
    "s2015.to_excel(\"data/s2014-15.xlsx\")"
   ]
  },
  {
   "cell_type": "markdown",
   "metadata": {},
   "source": [
    "### 2013-14 Season Data"
   ]
  },
  {
   "cell_type": "code",
   "execution_count": 6,
   "metadata": {},
   "outputs": [],
   "source": [
    "basic14 = pd.read_csv(\"data/basic2013-14.csv\")\n",
    "basic_opp14 = pd.read_csv(\"data/basic_opp2013-14.csv\")\n",
    "advanced14 = pd.read_excel(\"data/advanced2013-14.xlsx\").set_index(\"Team\")"
   ]
  },
  {
   "cell_type": "code",
   "execution_count": 7,
   "metadata": {},
   "outputs": [],
   "source": [
    "basic14 = clean(basic14, False)\n",
    "basic_opp14 = clean(basic_opp14, True)\n",
    "basic14 = pd.concat([basic14, basic_opp14], axis=1, sort = True)\n",
    "basic14 = basic14.round(3)"
   ]
  },
  {
   "cell_type": "code",
   "execution_count": null,
   "metadata": {},
   "outputs": [],
   "source": [
    "basic14.insert(len(basic14.columns),'Star_Power',0)\n",
    "basic14.loc[\"Miami Heat\", \"Star_Power\"] = 1\n",
    "basic14.loc[\"Los Angeles Clippers\", \"Star_Power\"] = 1\n",
    "basic14.loc[\"Oklahoma City Thunder\", \"Star_Power\"] = 1\n",
    "basic14.loc[\"Chicago Bulls\", \"Star_Power\"] = 1\n",
    "basic14.loc[\"Houston Rockets\", \"Star_Power\"] = 1"
   ]
  },
  {
   "cell_type": "code",
   "execution_count": 8,
   "metadata": {},
   "outputs": [],
   "source": [
    "s2014 = pd.read_excel(\"data/basic2013-14_labels.xlsx\")\n",
    "s2014 = s2014.set_index(\"Team\")\n",
    "s2014 = pd.concat([s2014, advanced14], axis=1, sort = True)\n",
    "s2014.drop([\"op_STL\", \"op_BLK\", \"op_PF\", \"op_FT%\", \"op_FTA\", \"op_DRB\", \"op_TRB\"], axis = 1, inplace = True)\n",
    "s2014.to_excel(\"data/s2013-14.xlsx\")"
   ]
  }
 ],
 "metadata": {
  "kernelspec": {
   "display_name": "Python 3",
   "language": "python",
   "name": "python3"
  },
  "language_info": {
   "codemirror_mode": {
    "name": "ipython",
    "version": 3
   },
   "file_extension": ".py",
   "mimetype": "text/x-python",
   "name": "python",
   "nbconvert_exporter": "python",
   "pygments_lexer": "ipython3",
   "version": "3.7.3"
  }
 },
 "nbformat": 4,
 "nbformat_minor": 2
}
